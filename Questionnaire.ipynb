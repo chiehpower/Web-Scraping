{
 "cells": [
  {
   "cell_type": "code",
   "execution_count": null,
   "metadata": {
    "scrolled": true
   },
   "outputs": [],
   "source": [
    "from splinter import Browser\n",
    "from selenium import webdriver\n",
    "browser=Browser('chrome',  executable_path = \"../chromedriver\") # Write down the location of your file\n",
    "import time\n",
    "import random\n",
    "time_second=1.5\n",
    "\n",
    "agree =['很不同意','不同意','一般','同意','很同意']\n",
    "sex = ['男','女']\n",
    "age = ['18-25','26-34','35-49']\n",
    "edu = ['高中','本科','研究生']\n",
    "yesno = ['有','沒有']\n",
    "shop = ['超市','银行','零售商店（药店/化妆品店）','其他']\n",
    "\n",
    "for i in range(100):\n",
    "    path ='' # put your goal's url\n",
    "    browser.visit(path)\n",
    "    A = random.randint(0, len(sex)-1)\n",
    "    browser.find_by_text(sex[A]).click()\n",
    "    time.sleep(time_second)\n",
    "    A = random.randint(0, len(age)-1)\n",
    "    browser.find_by_text(age[A]).click()\n",
    "    time.sleep(time_second)\n",
    "    A = random.randint(0, len(edu)-1)\n",
    "    browser.find_by_text(edu[A]).click()\n",
    "    time.sleep(time_second)\n",
    "    browser.find_by_value('下一页').click()\n",
    "    time.sleep(time_second)\n",
    "    \n",
    "    for i in range(16):\n",
    "        A = random.randint(0, len(agree)-1)\n",
    "        j = str(i+4)\n",
    "        name = 'divquestion'+j\n",
    "        browser.find_by_id(name).find_by_text(agree[A]).click()\n",
    "        time.sleep(time_second)\n",
    "    browser.find_by_value('下一页').click()\n",
    "    time.sleep(time_second)\n",
    "    for i in range(6):\n",
    "        A = random.randint(0, 4)\n",
    "        j = str(i+20)\n",
    "        name = 'divquestion'+j\n",
    "        browser.find_by_id(name).find_by_text(agree[A]).click()\n",
    "        time.sleep(time_second)\n",
    "\n",
    "    browser.find_by_value('下一页').click()\n",
    "    time.sleep(2)\n",
    "    \n",
    "    browser.find_by_id('divquestion26').find_by_text('有').click()\n",
    "    time.sleep(time_second)\n",
    "    A = random.randint(0, len(shop)-1)\n",
    "\n",
    "    browser.find_by_id('divquestion27').find_by_text(shop[A]).click()\n",
    "    time.sleep(time_second)\n",
    "\n",
    "    browser.find_by_value('提交').click()\n",
    "    time.sleep(10)\n",
    "browser.quit()"
   ]
  },
  {
   "cell_type": "code",
   "execution_count": null,
   "metadata": {},
   "outputs": [],
   "source": []
  }
 ],
 "metadata": {
  "hide_input": false,
  "kernelspec": {
   "display_name": "Python 3",
   "language": "python",
   "name": "python3"
  },
  "language_info": {
   "codemirror_mode": {
    "name": "ipython",
    "version": 3
   },
   "file_extension": ".py",
   "mimetype": "text/x-python",
   "name": "python",
   "nbconvert_exporter": "python",
   "pygments_lexer": "ipython3",
   "version": "3.7.2"
  },
  "varInspector": {
   "cols": {
    "lenName": 16,
    "lenType": 16,
    "lenVar": 40
   },
   "kernels_config": {
    "python": {
     "delete_cmd_postfix": "",
     "delete_cmd_prefix": "del ",
     "library": "var_list.py",
     "varRefreshCmd": "print(var_dic_list())"
    },
    "r": {
     "delete_cmd_postfix": ") ",
     "delete_cmd_prefix": "rm(",
     "library": "var_list.r",
     "varRefreshCmd": "cat(var_dic_list()) "
    }
   },
   "types_to_exclude": [
    "module",
    "function",
    "builtin_function_or_method",
    "instance",
    "_Feature"
   ],
   "window_display": false
  }
 },
 "nbformat": 4,
 "nbformat_minor": 2
}
