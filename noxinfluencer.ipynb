{
 "cells": [
  {
   "cell_type": "code",
   "execution_count": 1,
   "metadata": {},
   "outputs": [],
   "source": [
    "from selenium import webdriver\n",
    "from selenium.webdriver.common.keys import Keys\n",
    "from selenium.webdriver.common.action_chains import ActionChains\n",
    "\n",
    "import requests\n",
    "from bs4 import BeautifulSoup \n",
    "import json\n",
    "import re\n",
    "from urllib.request import urlopen\n",
    "import pandas as pd\n",
    "import time"
   ]
  },
  {
   "cell_type": "code",
   "execution_count": 2,
   "metadata": {},
   "outputs": [
    {
     "name": "stderr",
     "output_type": "stream",
     "text": [
      "/Users/chiehpower/anaconda3/lib/python3.7/site-packages/urllib3/connectionpool.py:988: InsecureRequestWarning: Unverified HTTPS request is being made to host 'tw.noxinfluencer.com'. Adding certificate verification is strongly advised. See: https://urllib3.readthedocs.io/en/latest/advanced-usage.html#ssl-warnings\n",
      "  InsecureRequestWarning,\n"
     ]
    }
   ],
   "source": [
    "res  = requests.Session()\n",
    "url=res.get(\"https://tw.noxinfluencer.com/youtube/channel/UC6FcYHEm7SO1jpu5TKjNXEA\",verify=False)"
   ]
  },
  {
   "cell_type": "code",
   "execution_count": 3,
   "metadata": {},
   "outputs": [
    {
     "data": {
      "text/plain": [
       "{'粉絲數': '332萬', '總觀看量': '8.65億', '平均觀看量': '261.55萬', '影片總數': '227'}"
      ]
     },
     "execution_count": 3,
     "metadata": {},
     "output_type": "execute_result"
    }
   ],
   "source": [
    "name = {}\n",
    "soup = BeautifulSoup(url.text,\"html.parser\")\n",
    "sel = soup.select(\"div div div div ul li div span\")\n",
    "aaa = []\n",
    "for i in range(len(sel)):\n",
    "    href = re.findall(' class=\"strong\">.+</span',str(sel[i]))\n",
    "    href = re.findall('>.+<',str(href))\n",
    "    if len(href) > 0:\n",
    "        href = href[0].strip('><')\n",
    "        aaa.append(href)\n",
    "name['粉絲數'] = aaa[0]\n",
    "name['總觀看量'] = aaa[1]\n",
    "name['平均觀看量'] = aaa[2]\n",
    "name['影片總數'] = aaa[3]\n",
    "\n",
    "name"
   ]
  },
  {
   "cell_type": "code",
   "execution_count": 4,
   "metadata": {},
   "outputs": [],
   "source": [
    "soup = BeautifulSoup(url.text,\"html.parser\")\n",
    "sel = soup.select(\"div div div div div div div\")\n",
    "each_video1 = []\n",
    "for i in range(len(sel)):\n",
    "    href = re.findall(' class=\"est-content\">.+<span',str(sel[i]))\n",
    "    each_video = re.findall('>.+<s',str(href))\n",
    "    each_video = re.findall('.+ ',str(each_video))\n",
    "\n",
    "    if len(each_video) > 0:\n",
    "        each_video = each_video[0].strip('><')\n",
    "        each_video1.append(each_video)\n",
    "\n",
    "each_video1 = each_video1[1:]        \n",
    "\n",
    "num = []\n",
    "for j in each_video1:\n",
    "    w = j.split(\" \")[1]\n",
    "    num.append(w)\n",
    "name['預計潛在品牌合作收益'] = num[0]\n",
    "name['單月YouTube廣告聯盟收入'] = num[1]"
   ]
  },
  {
   "cell_type": "code",
   "execution_count": 5,
   "metadata": {},
   "outputs": [
    {
     "data": {
      "text/plain": [
       "{'粉絲數': '332萬',\n",
       " '總觀看量': '8.65億',\n",
       " '平均觀看量': '261.55萬',\n",
       " '影片總數': '227',\n",
       " '預計潛在品牌合作收益': '298.51萬元',\n",
       " '單月YouTube廣告聯盟收入': '38.22萬元-72.63萬元'}"
      ]
     },
     "execution_count": 5,
     "metadata": {},
     "output_type": "execute_result"
    }
   ],
   "source": [
    "name"
   ]
  }
 ],
 "metadata": {
  "hide_input": false,
  "kernelspec": {
   "display_name": "Python 3",
   "language": "python",
   "name": "python3"
  },
  "language_info": {
   "codemirror_mode": {
    "name": "ipython",
    "version": 3
   },
   "file_extension": ".py",
   "mimetype": "text/x-python",
   "name": "python",
   "nbconvert_exporter": "python",
   "pygments_lexer": "ipython3",
   "version": "3.7.7"
  },
  "varInspector": {
   "cols": {
    "lenName": 16,
    "lenType": 16,
    "lenVar": 40
   },
   "kernels_config": {
    "python": {
     "delete_cmd_postfix": "",
     "delete_cmd_prefix": "del ",
     "library": "var_list.py",
     "varRefreshCmd": "print(var_dic_list())"
    },
    "r": {
     "delete_cmd_postfix": ") ",
     "delete_cmd_prefix": "rm(",
     "library": "var_list.r",
     "varRefreshCmd": "cat(var_dic_list()) "
    }
   },
   "types_to_exclude": [
    "module",
    "function",
    "builtin_function_or_method",
    "instance",
    "_Feature"
   ],
   "window_display": false
  }
 },
 "nbformat": 4,
 "nbformat_minor": 4
}
